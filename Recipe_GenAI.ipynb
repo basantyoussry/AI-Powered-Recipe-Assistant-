{
  "metadata": {
    "kernelspec": {
      "language": "python",
      "display_name": "Python 3",
      "name": "python3"
    },
    "language_info": {
      "name": "python",
      "version": "3.10.12",
      "mimetype": "text/x-python",
      "codemirror_mode": {
        "name": "ipython",
        "version": 3
      },
      "pygments_lexer": "ipython3",
      "nbconvert_exporter": "python",
      "file_extension": ".py"
    },
    "kaggle": {
      "accelerator": "nvidiaTeslaT4",
      "dataSources": [],
      "dockerImageVersionId": 30839,
      "isInternetEnabled": true,
      "language": "python",
      "sourceType": "notebook",
      "isGpuEnabled": true
    },
    "colab": {
      "name": "Recipe GenAI  ",
      "provenance": [],
      "include_colab_link": true
    }
  },
  "nbformat_minor": 0,
  "nbformat": 4,
  "cells": [
    {
      "cell_type": "markdown",
      "metadata": {
        "id": "view-in-github",
        "colab_type": "text"
      },
      "source": [
        "<a href=\"https://colab.research.google.com/github/basantyoussry/AI-Powered-Recipe-Assistant-/blob/main/Recipe_GenAI.ipynb\" target=\"_parent\"><img src=\"https://colab.research.google.com/assets/colab-badge.svg\" alt=\"Open In Colab\"/></a>"
      ]
    },
    {
      "cell_type": "markdown",
      "source": [
        "# [](http://)**Requiermnets**\n",
        "\n",
        "* langchain\n",
        "* huggingface\n",
        "* Transformers\n",
        "* Spoonacular\n",
        "* gtts\n",
        "* Diffusers\n",
        "* requests\n",
        "* moviepy\n"
      ],
      "metadata": {
        "id": "5zBJsvld_Yzk"
      }
    },
    {
      "cell_type": "code",
      "source": [
        "!pip install spoonacular\n",
        "!pip install gtts"
      ],
      "metadata": {
        "trusted": true,
        "execution": {
          "iopub.status.busy": "2025-01-25T10:42:31.478059Z",
          "iopub.execute_input": "2025-01-25T10:42:31.478425Z",
          "iopub.status.idle": "2025-01-25T10:42:38.333246Z",
          "shell.execute_reply.started": "2025-01-25T10:42:31.478394Z",
          "shell.execute_reply": "2025-01-25T10:42:38.332319Z"
        },
        "id": "aL31a6Z8_Yzr",
        "outputId": "f778084d-0a89-46bd-b12a-d47a58bf17f4"
      },
      "outputs": [
        {
          "name": "stdout",
          "text": "Requirement already satisfied: spoonacular in /usr/local/lib/python3.10/dist-packages (3.0)\nRequirement already satisfied: requests in /usr/local/lib/python3.10/dist-packages (from spoonacular) (2.32.3)\nRequirement already satisfied: charset-normalizer<4,>=2 in /usr/local/lib/python3.10/dist-packages (from requests->spoonacular) (3.4.0)\nRequirement already satisfied: idna<4,>=2.5 in /usr/local/lib/python3.10/dist-packages (from requests->spoonacular) (3.10)\nRequirement already satisfied: urllib3<3,>=1.21.1 in /usr/local/lib/python3.10/dist-packages (from requests->spoonacular) (2.2.3)\nRequirement already satisfied: certifi>=2017.4.17 in /usr/local/lib/python3.10/dist-packages (from requests->spoonacular) (2024.12.14)\nCollecting gtts\n  Downloading gTTS-2.5.4-py3-none-any.whl.metadata (4.1 kB)\nRequirement already satisfied: requests<3,>=2.27 in /usr/local/lib/python3.10/dist-packages (from gtts) (2.32.3)\nRequirement already satisfied: click<8.2,>=7.1 in /usr/local/lib/python3.10/dist-packages (from gtts) (8.1.7)\nRequirement already satisfied: charset-normalizer<4,>=2 in /usr/local/lib/python3.10/dist-packages (from requests<3,>=2.27->gtts) (3.4.0)\nRequirement already satisfied: idna<4,>=2.5 in /usr/local/lib/python3.10/dist-packages (from requests<3,>=2.27->gtts) (3.10)\nRequirement already satisfied: urllib3<3,>=1.21.1 in /usr/local/lib/python3.10/dist-packages (from requests<3,>=2.27->gtts) (2.2.3)\nRequirement already satisfied: certifi>=2017.4.17 in /usr/local/lib/python3.10/dist-packages (from requests<3,>=2.27->gtts) (2024.12.14)\nDownloading gTTS-2.5.4-py3-none-any.whl (29 kB)\nInstalling collected packages: gtts\nSuccessfully installed gtts-2.5.4\n",
          "output_type": "stream"
        }
      ],
      "execution_count": null
    },
    {
      "cell_type": "code",
      "source": [
        "import transformers\n",
        "import spoonacular as sp\n",
        "import requests\n",
        "from diffusers import DiffusionPipeline\n",
        "import torch\n",
        "from tqdm import tqdm  # Import tqdm for progress bar\n",
        "from gtts import gTTS\n",
        "\n",
        "\n",
        "from moviepy.editor import ImageClip, concatenate_videoclips, AudioFileClip\n"
      ],
      "metadata": {
        "trusted": true,
        "execution": {
          "iopub.status.busy": "2025-01-25T10:44:47.548563Z",
          "iopub.execute_input": "2025-01-25T10:44:47.548963Z",
          "iopub.status.idle": "2025-01-25T10:44:47.553449Z",
          "shell.execute_reply.started": "2025-01-25T10:44:47.548936Z",
          "shell.execute_reply": "2025-01-25T10:44:47.552272Z"
        },
        "id": "dCv35AmP_Yzu"
      },
      "outputs": [],
      "execution_count": null
    },
    {
      "cell_type": "code",
      "source": [
        "\n",
        "\n",
        "# Spoonacular API endpoints\n",
        "search_url = \"https://api.spoonacular.com/recipes/complexSearch\"\n",
        "recipe_info_url = \"https://api.spoonacular.com/recipes/{id}/information\"\n",
        "\n",
        "# API key (replace with your own)\n",
        "api_key = \"72c91728462848de9fb3720585de6e02\"\n",
        "\n",
        "def fetch_recipe_instructions(query=\"Cookies\", num_results=1):\n",
        "    \"\"\"\n",
        "    Fetches recipe instructions from the Spoonacular API.\n",
        "    \"\"\"\n",
        "    # Parameters for the search\n",
        "    params = {\n",
        "        \"query\": query,  # Search query\n",
        "        \"number\": num_results,  # Number of results to return\n",
        "        \"instructionRequired\": True,\n",
        "        \"addRecipeInformation\": True,\n",
        "        \"fillIngredients\": True,\n",
        "        \"apiKey\": api_key\n",
        "    }\n",
        "\n",
        "    # Make the search request\n",
        "    response = requests.get(search_url, params=params)\n",
        "\n",
        "    # Check if the request was successful\n",
        "    if response.status_code == 200:\n",
        "        data = response.json()\n",
        "        recipes = data.get(\"results\", [])\n",
        "\n",
        "        if not recipes:\n",
        "            print(\"No recipes found. Try a different search query.\")\n",
        "            return None\n",
        "\n",
        "        # Loop through each recipe\n",
        "        for recipe in recipes:\n",
        "            print(f\"\\nRecipe: {recipe['title']}\")\n",
        "            print(f\"ID: {recipe['id']}\")\n",
        "            print(f\"Image: {recipe['image']}\")\n",
        "\n",
        "            # Fetch detailed recipe information using the recipe ID\n",
        "            recipe_id = recipe['id']\n",
        "            info_response = requests.get(recipe_info_url.format(id=recipe_id), params={\"apiKey\": api_key})\n",
        "\n",
        "            if info_response.status_code == 200:\n",
        "                recipe_details = info_response.json()\n",
        "\n",
        "                # Print ingredients\n",
        "                print(\"\\nIngredients:\")\n",
        "                for ingredient in recipe_details.get(\"extendedIngredients\", []):\n",
        "                    print(f\"- {ingredient['original']}\")\n",
        "\n",
        "                # Print instructions\n",
        "                print(\"\\nInstructions:\")\n",
        "                if \"instructions\" in recipe_details and recipe_details[\"instructions\"]:\n",
        "                    instructions = recipe_details[\"instructions\"]\n",
        "                    print(instructions)\n",
        "                    return instructions  # Return the instructions for Stable Diffusion\n",
        "                else:\n",
        "                    print(\"No instructions available.\")\n",
        "                    return None\n",
        "            else:\n",
        "                print(f\"Error fetching details for recipe ID {recipe_id}: {info_response.status_code}\")\n",
        "                return None\n",
        "    else:\n",
        "        print(f\"Error: {response.status_code}\")\n",
        "        return None\n",
        "\n",
        "# Fetch instructions from Spoonacular API\n",
        "instructions = fetch_recipe_instructions()\n",
        "if instructions:\n",
        "    print(\"\\nInstructions fetched successfully!\")\n",
        "else:\n",
        "    print(\"\\nFailed to fetch instructions.\")"
      ],
      "metadata": {
        "trusted": true,
        "execution": {
          "iopub.status.busy": "2025-01-25T11:22:51.15176Z",
          "iopub.execute_input": "2025-01-25T11:22:51.152142Z",
          "iopub.status.idle": "2025-01-25T11:22:51.963308Z",
          "shell.execute_reply.started": "2025-01-25T11:22:51.152117Z",
          "shell.execute_reply": "2025-01-25T11:22:51.962455Z"
        },
        "id": "oWFUuYTI_Yzw",
        "outputId": "f17e7f17-90de-498f-cbd8-5e2dcc6444f7"
      },
      "outputs": [
        {
          "name": "stdout",
          "text": "\nRecipe: Oreo Mini Cheesecake\nID: 654034\nImage: https://img.spoonacular.com/recipes/654034-312x231.jpg\n\nIngredients:\n- 250g Cream cheese\n- 150g Whipping cream\n- 1 tsp Vanilla extract\n- 2 Eggs (70g each), separated\n- a pinch of cream of tartar\n- 60g Sugar\n- 1 tube of Oreo (137g)\n\nInstructions:\nSeparate Oreos, leaving 12 pcs without cream intact and round. Put the rest of the biscuits together with the filling into a food processor and pulse in fine.\nRemember to preheat your oven (150C) and boil water after this.\nLine big muffin tin (100ml capacity each) with 12 paper cups. Place 1 heaped teaspoon of oreo crumbs onto paper cups and  lightly press the crumbs to flatten with a mini roller pin. (see pictures)\nCream cream cheese  and 30g sugar on low speed until smooth, put in whipping cream, vanilla extract and egg yolks and continue to beat on low speed for another minute until well combined. Transfer cream mixtures to a large bowl and set aside.\nWhisk egg whites until frothy, add in cream of tartar continue to beat until soft peaks. Add in 30g sugar and beat till stiff (as long as egg whites don't fall when overturned, it will be fine, no need to be pointy stiff).\nFold in egg whites to cream cheese mixtures with a rubber spatula.\nSpoon cream cheese mixtures into prepared paper cups. Top with an oreo biscuit.\nBake for 20 minutes in a water bath.\nLeave to cool in oven, door ajar. Cool completely before chilling.\nBest chilled for 3 hours or more before serving.\n\nInstructions fetched successfully!\n",
          "output_type": "stream"
        }
      ],
      "execution_count": null
    },
    {
      "cell_type": "code",
      "source": [
        "import re\n",
        "from diffusers import DiffusionPipeline\n",
        "from tqdm import tqdm\n",
        "\n",
        "# Remove HTML tags using regex\n",
        "instructions = re.sub(r\"<.*?>\", \"\", instructions)\n",
        "\n",
        "# Split instructions into steps\n",
        "steps = [step.strip() for step in instructions.split(\"\\n\") if step.strip()]\n",
        "print(\"\\nProcessed steps:\")\n",
        "for i, step in enumerate(steps):\n",
        "  print(f\"Step {i+1}: {step}\")\n",
        "\n",
        "\n",
        "def preprocess_instructions(instructions):\n",
        "    \"\"\"\n",
        "    Preprocesses instructions by removing HTML tags and splitting long steps.\n",
        "    \"\"\"\n",
        "\n",
        "\n",
        "    # Ensure each step is within the token limit (77 tokens)\n",
        "    processed_steps = []\n",
        "    for step in steps:\n",
        "        if len(step.split()) <= 77:  # Check token length (approximate)\n",
        "            processed_steps.append(step)\n",
        "        else:\n",
        "            # Split long steps into smaller chunks\n",
        "            words = step.split()\n",
        "            for i in range(0, len(words), 77):\n",
        "                chunk = \" \".join(words[i:i+77])\n",
        "                processed_steps.append(chunk)\n",
        "\n",
        "    return processed_steps\n",
        "\n",
        "def generate_images_from_instructions(instructions):\n",
        "    \"\"\"\n",
        "    Generates images for each step of the instructions using Stable Diffusion.\n",
        "    \"\"\"\n",
        "    if not instructions:\n",
        "        print(\"No instructions provided. Skipping image generation.\")\n",
        "        return\n",
        "\n",
        "    # Load the Stable Diffusion pipeline\n",
        "    pipe = DiffusionPipeline.from_pretrained(\n",
        "        \"stabilityai/stable-diffusion-xl-base-1.0\",\n",
        "        torch_dtype=torch.float16,\n",
        "        use_safetensors=True,\n",
        "        variant=\"fp16\"\n",
        "    )\n",
        "    pipe.to(\"cuda\")  # Ensure this is uncommented if you have a GPU\n",
        "\n",
        "    # Generate images for each step with a progress bar\n",
        "    for i, step in enumerate(tqdm(steps, desc=\"Generating images\")):\n",
        "        try:\n",
        "            # Generate an image for the current step\n",
        "            output = pipe(prompt=step).images[0]  # Generate one image per step\n",
        "            output.save(f\"step_{i+1}.png\")  # Save the image with a step-specific filename\n",
        "            print(f\"Saved image for step {i+1}: {step}\")\n",
        "        except Exception as e:\n",
        "            print(f\"Error generating image for step {i+1}: {e}\")\n",
        "\n",
        "\n",
        "\n",
        "# Generate images using Stable Diffusion\n",
        "if instructions:\n",
        "    generate_images_from_instructions(instructions)\n",
        "else:\n",
        "    print(\"No instructions available for image generation.\")"
      ],
      "metadata": {
        "trusted": true,
        "execution": {
          "iopub.status.busy": "2025-01-25T11:23:12.746361Z",
          "iopub.execute_input": "2025-01-25T11:23:12.746721Z",
          "iopub.status.idle": "2025-01-25T11:32:20.145181Z",
          "shell.execute_reply.started": "2025-01-25T11:23:12.746693Z",
          "shell.execute_reply": "2025-01-25T11:32:20.144203Z"
        },
        "id": "I-KbrInB_Yzx",
        "outputId": "33be0fae-4998-4f3b-f395-72160b10738a",
        "colab": {
          "referenced_widgets": [
            "0ff1859154af4c55bcd6191b4d09ecf2",
            "99d0afcee6604c6794e1a8a814e6d31d",
            "d71726b8daf549f1b17aea78eda91c8c",
            "b05acafebef0488aaa600b84fc4f1b5d",
            "ae827c096ae04111ad608cadaecc8388",
            "db234e881d5c41719ba66bdb66e27138",
            "8376c44627b040e6a8ab80eea54446d4",
            "453b5bbbf6044e60879428d305c1a6de",
            "fbf7d08c7bca4a6b964082db0f63a507",
            "fa4f6b97446b4248a051f005f545b0a7",
            "60e67d74854f402a8eb329fcb3a0bbb2"
          ]
        }
      },
      "outputs": [
        {
          "name": "stdout",
          "text": "\nProcessed steps:\nStep 1: Separate Oreos, leaving 12 pcs without cream intact and round. Put the rest of the biscuits together with the filling into a food processor and pulse in fine.\nStep 2: Remember to preheat your oven (150C) and boil water after this.\nStep 3: Line big muffin tin (100ml capacity each) with 12 paper cups. Place 1 heaped teaspoon of oreo crumbs onto paper cups and  lightly press the crumbs to flatten with a mini roller pin. (see pictures)\nStep 4: Cream cream cheese  and 30g sugar on low speed until smooth, put in whipping cream, vanilla extract and egg yolks and continue to beat on low speed for another minute until well combined. Transfer cream mixtures to a large bowl and set aside.\nStep 5: Whisk egg whites until frothy, add in cream of tartar continue to beat until soft peaks. Add in 30g sugar and beat till stiff (as long as egg whites don't fall when overturned, it will be fine, no need to be pointy stiff).\nStep 6: Fold in egg whites to cream cheese mixtures with a rubber spatula.\nStep 7: Spoon cream cheese mixtures into prepared paper cups. Top with an oreo biscuit.\nStep 8: Bake for 20 minutes in a water bath.\nStep 9: Leave to cool in oven, door ajar. Cool completely before chilling.\nStep 10: Best chilled for 3 hours or more before serving.\n\nProcessed steps for image generation:\nStep 1: Separate Oreos, leaving 12 pcs without cream intact and round. Put the rest of the biscuits together with the filling into a food processor and pulse in fine.\nStep 2: Remember to preheat your oven (150C) and boil water after this.\nStep 3: Line big muffin tin (100ml capacity each) with 12 paper cups. Place 1 heaped teaspoon of oreo crumbs onto paper cups and  lightly press the crumbs to flatten with a mini roller pin. (see pictures)\nStep 4: Cream cream cheese  and 30g sugar on low speed until smooth, put in whipping cream, vanilla extract and egg yolks and continue to beat on low speed for another minute until well combined. Transfer cream mixtures to a large bowl and set aside.\nStep 5: Whisk egg whites until frothy, add in cream of tartar continue to beat until soft peaks. Add in 30g sugar and beat till stiff (as long as egg whites don't fall when overturned, it will be fine, no need to be pointy stiff).\nStep 6: Fold in egg whites to cream cheese mixtures with a rubber spatula.\nStep 7: Spoon cream cheese mixtures into prepared paper cups. Top with an oreo biscuit.\nStep 8: Bake for 20 minutes in a water bath.\nStep 9: Leave to cool in oven, door ajar. Cool completely before chilling.\nStep 10: Best chilled for 3 hours or more before serving.\n",
          "output_type": "stream"
        },
        {
          "output_type": "display_data",
          "data": {
            "text/plain": "Loading pipeline components...:   0%|          | 0/7 [00:00<?, ?it/s]",
            "application/vnd.jupyter.widget-view+json": {
              "version_major": 2,
              "version_minor": 0,
              "model_id": "0ff1859154af4c55bcd6191b4d09ecf2"
            }
          },
          "metadata": {}
        },
        {
          "name": "stderr",
          "text": "Generating images:   0%|          | 0/10 [00:00<?, ?it/s]",
          "output_type": "stream"
        },
        {
          "output_type": "display_data",
          "data": {
            "text/plain": "  0%|          | 0/50 [00:00<?, ?it/s]",
            "application/vnd.jupyter.widget-view+json": {
              "version_major": 2,
              "version_minor": 0,
              "model_id": "99d0afcee6604c6794e1a8a814e6d31d"
            }
          },
          "metadata": {}
        },
        {
          "name": "stderr",
          "text": "Generating images:  10%|█         | 1/10 [00:48<07:20, 48.94s/it]",
          "output_type": "stream"
        },
        {
          "name": "stdout",
          "text": "Saved image for step 1: Separate Oreos, leaving 12 pcs without cream intact and round. Put the rest of the biscuits together with the filling into a food processor and pulse in fine.\n",
          "output_type": "stream"
        },
        {
          "output_type": "display_data",
          "data": {
            "text/plain": "  0%|          | 0/50 [00:00<?, ?it/s]",
            "application/vnd.jupyter.widget-view+json": {
              "version_major": 2,
              "version_minor": 0,
              "model_id": "d71726b8daf549f1b17aea78eda91c8c"
            }
          },
          "metadata": {}
        },
        {
          "name": "stderr",
          "text": "Generating images:  20%|██        | 2/10 [01:42<06:51, 51.44s/it]",
          "output_type": "stream"
        },
        {
          "name": "stdout",
          "text": "Saved image for step 2: Remember to preheat your oven (150C) and boil water after this.\n",
          "output_type": "stream"
        },
        {
          "output_type": "display_data",
          "data": {
            "text/plain": "  0%|          | 0/50 [00:00<?, ?it/s]",
            "application/vnd.jupyter.widget-view+json": {
              "version_major": 2,
              "version_minor": 0,
              "model_id": "b05acafebef0488aaa600b84fc4f1b5d"
            }
          },
          "metadata": {}
        },
        {
          "name": "stderr",
          "text": "Generating images:  30%|███       | 3/10 [02:37<06:13, 53.37s/it]",
          "output_type": "stream"
        },
        {
          "name": "stdout",
          "text": "Saved image for step 3: Line big muffin tin (100ml capacity each) with 12 paper cups. Place 1 heaped teaspoon of oreo crumbs onto paper cups and  lightly press the crumbs to flatten with a mini roller pin. (see pictures)\n",
          "output_type": "stream"
        },
        {
          "output_type": "display_data",
          "data": {
            "text/plain": "  0%|          | 0/50 [00:00<?, ?it/s]",
            "application/vnd.jupyter.widget-view+json": {
              "version_major": 2,
              "version_minor": 0,
              "model_id": "ae827c096ae04111ad608cadaecc8388"
            }
          },
          "metadata": {}
        },
        {
          "name": "stderr",
          "text": "Generating images:  40%|████      | 4/10 [03:32<05:24, 54.02s/it]",
          "output_type": "stream"
        },
        {
          "name": "stdout",
          "text": "Saved image for step 4: Cream cream cheese  and 30g sugar on low speed until smooth, put in whipping cream, vanilla extract and egg yolks and continue to beat on low speed for another minute until well combined. Transfer cream mixtures to a large bowl and set aside.\n",
          "output_type": "stream"
        },
        {
          "output_type": "display_data",
          "data": {
            "text/plain": "  0%|          | 0/50 [00:00<?, ?it/s]",
            "application/vnd.jupyter.widget-view+json": {
              "version_major": 2,
              "version_minor": 0,
              "model_id": "db234e881d5c41719ba66bdb66e27138"
            }
          },
          "metadata": {}
        },
        {
          "name": "stderr",
          "text": "Generating images:  50%|█████     | 5/10 [04:28<04:32, 54.48s/it]",
          "output_type": "stream"
        },
        {
          "name": "stdout",
          "text": "Saved image for step 5: Whisk egg whites until frothy, add in cream of tartar continue to beat until soft peaks. Add in 30g sugar and beat till stiff (as long as egg whites don't fall when overturned, it will be fine, no need to be pointy stiff).\n",
          "output_type": "stream"
        },
        {
          "output_type": "display_data",
          "data": {
            "text/plain": "  0%|          | 0/50 [00:00<?, ?it/s]",
            "application/vnd.jupyter.widget-view+json": {
              "version_major": 2,
              "version_minor": 0,
              "model_id": "8376c44627b040e6a8ab80eea54446d4"
            }
          },
          "metadata": {}
        },
        {
          "name": "stderr",
          "text": "Generating images:  60%|██████    | 6/10 [05:23<03:38, 54.70s/it]",
          "output_type": "stream"
        },
        {
          "name": "stdout",
          "text": "Saved image for step 6: Fold in egg whites to cream cheese mixtures with a rubber spatula.\n",
          "output_type": "stream"
        },
        {
          "output_type": "display_data",
          "data": {
            "text/plain": "  0%|          | 0/50 [00:00<?, ?it/s]",
            "application/vnd.jupyter.widget-view+json": {
              "version_major": 2,
              "version_minor": 0,
              "model_id": "453b5bbbf6044e60879428d305c1a6de"
            }
          },
          "metadata": {}
        },
        {
          "name": "stderr",
          "text": "Generating images:  70%|███████   | 7/10 [06:18<02:44, 54.90s/it]",
          "output_type": "stream"
        },
        {
          "name": "stdout",
          "text": "Saved image for step 7: Spoon cream cheese mixtures into prepared paper cups. Top with an oreo biscuit.\n",
          "output_type": "stream"
        },
        {
          "output_type": "display_data",
          "data": {
            "text/plain": "  0%|          | 0/50 [00:00<?, ?it/s]",
            "application/vnd.jupyter.widget-view+json": {
              "version_major": 2,
              "version_minor": 0,
              "model_id": "fbf7d08c7bca4a6b964082db0f63a507"
            }
          },
          "metadata": {}
        },
        {
          "name": "stderr",
          "text": "Generating images:  80%|████████  | 8/10 [07:13<01:49, 54.99s/it]",
          "output_type": "stream"
        },
        {
          "name": "stdout",
          "text": "Saved image for step 8: Bake for 20 minutes in a water bath.\n",
          "output_type": "stream"
        },
        {
          "output_type": "display_data",
          "data": {
            "text/plain": "  0%|          | 0/50 [00:00<?, ?it/s]",
            "application/vnd.jupyter.widget-view+json": {
              "version_major": 2,
              "version_minor": 0,
              "model_id": "fa4f6b97446b4248a051f005f545b0a7"
            }
          },
          "metadata": {}
        },
        {
          "name": "stderr",
          "text": "Generating images:  90%|█████████ | 9/10 [08:08<00:54, 54.98s/it]",
          "output_type": "stream"
        },
        {
          "name": "stdout",
          "text": "Saved image for step 9: Leave to cool in oven, door ajar. Cool completely before chilling.\n",
          "output_type": "stream"
        },
        {
          "output_type": "display_data",
          "data": {
            "text/plain": "  0%|          | 0/50 [00:00<?, ?it/s]",
            "application/vnd.jupyter.widget-view+json": {
              "version_major": 2,
              "version_minor": 0,
              "model_id": "60e67d74854f402a8eb329fcb3a0bbb2"
            }
          },
          "metadata": {}
        },
        {
          "name": "stderr",
          "text": "Generating images: 100%|██████████| 10/10 [09:03<00:00, 54.35s/it]",
          "output_type": "stream"
        },
        {
          "name": "stdout",
          "text": "Saved image for step 10: Best chilled for 3 hours or more before serving.\n",
          "output_type": "stream"
        },
        {
          "name": "stderr",
          "text": "\n",
          "output_type": "stream"
        }
      ],
      "execution_count": null
    },
    {
      "cell_type": "code",
      "source": [
        "\n",
        "# Generate voiceover for a step\n",
        "def generate_voiceover(text, output_file):\n",
        "    tts = gTTS(text=text, lang=\"en\", slow=False)\n",
        "    tts.save(output_file)\n",
        "\n",
        "# Generate voiceovers for each step\n",
        "for i, sinstruction in enumerate(steps):\n",
        "    output_file = f\"step_{i+1}.mp3\"\n",
        "    generate_voiceover(step, output_file)\n",
        "    print(f\"Generated voiceover for: {step}\\nSaved to: {output_file}\")"
      ],
      "metadata": {
        "trusted": true,
        "execution": {
          "iopub.status.busy": "2025-01-25T11:32:20.14657Z",
          "iopub.execute_input": "2025-01-25T11:32:20.146939Z",
          "iopub.status.idle": "2025-01-25T11:32:21.087902Z",
          "shell.execute_reply.started": "2025-01-25T11:32:20.146906Z",
          "shell.execute_reply": "2025-01-25T11:32:21.086958Z"
        },
        "id": "CNrI2uiI_Yzz",
        "outputId": "b3413a93-059f-48ae-9c61-a45e693f7b80"
      },
      "outputs": [
        {
          "name": "stdout",
          "text": "Generated voiceover for: Best chilled for 3 hours or more before serving.\nSaved to: step_1.mp3\nGenerated voiceover for: Best chilled for 3 hours or more before serving.\nSaved to: step_2.mp3\nGenerated voiceover for: Best chilled for 3 hours or more before serving.\nSaved to: step_3.mp3\nGenerated voiceover for: Best chilled for 3 hours or more before serving.\nSaved to: step_4.mp3\nGenerated voiceover for: Best chilled for 3 hours or more before serving.\nSaved to: step_5.mp3\nGenerated voiceover for: Best chilled for 3 hours or more before serving.\nSaved to: step_6.mp3\nGenerated voiceover for: Best chilled for 3 hours or more before serving.\nSaved to: step_7.mp3\nGenerated voiceover for: Best chilled for 3 hours or more before serving.\nSaved to: step_8.mp3\nGenerated voiceover for: Best chilled for 3 hours or more before serving.\nSaved to: step_9.mp3\nGenerated voiceover for: Best chilled for 3 hours or more before serving.\nSaved to: step_10.mp3\n",
          "output_type": "stream"
        }
      ],
      "execution_count": null
    },
    {
      "cell_type": "code",
      "source": [
        "def create_video_from_steps(steps):\n",
        "    \"\"\"\n",
        "    Creates a video from the generated images and voiceovers.\n",
        "    \"\"\"\n",
        "    clips = []\n",
        "    for i, step in enumerate(steps):\n",
        "        # Load the image\n",
        "        image_path = f\"step_{i+1}.png\"\n",
        "        image_clip = ImageClip(image_path).set_duration(5)  # 5 seconds per step\n",
        "\n",
        "        # Load the voiceover\n",
        "        voiceover_path = f\"step_{i+1}.mp3\"\n",
        "        audio_clip = AudioFileClip(voiceover_path)\n",
        "        image_clip = image_clip.set_audio(audio_clip)\n",
        "\n",
        "        clips.append(image_clip)\n",
        "\n",
        "    # Combine all clips into a single video\n",
        "    final_video = concatenate_videoclips(clips)\n",
        "    final_video.write_videofile(\"recipe_video.mp4\", fps=24)\n",
        "    print(\"Video created successfully: recipe_video.mp4\")\n"
      ],
      "metadata": {
        "trusted": true,
        "execution": {
          "iopub.status.busy": "2025-01-25T11:38:38.729939Z",
          "iopub.execute_input": "2025-01-25T11:38:38.730279Z",
          "iopub.status.idle": "2025-01-25T11:38:38.735222Z",
          "shell.execute_reply.started": "2025-01-25T11:38:38.73025Z",
          "shell.execute_reply": "2025-01-25T11:38:38.734235Z"
        },
        "id": "JBy53Gnv_Y0E"
      },
      "outputs": [],
      "execution_count": null
    }
  ]
}